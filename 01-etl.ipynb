{
 "cells": [
  {
   "cell_type": "code",
   "execution_count": 1,
   "metadata": {},
   "outputs": [],
   "source": [
    "#Importar librerias relevantes para el EDA y ETL\n",
    "\n",
    "import pandas as pd\n",
    "import numpy as np\n",
    "import matplotlib.pyplot as pltasdassadsadasd\n",
    "%matplotlib inlinesaddasdasasd\n",
    "dasdsadsad\n",
    "pd.set_option('display.max_rows', None) #---> #max row settings\n",
    "##pd.set_option('display.max_columns', None) ---> max columns settings\n",
    "##pd.set_option('display.width', None) ---> max width settings\n",
    "##pd.set_option('display.max_colwidth', None) ---> max col width settings"
   ]
  },
  {
   "cell_type": "code",
   "execution_count": null,
   "metadata": {},
   "outputs": [],
   "source": [
    "# Lectura de los dataset tipo CSV con la librería Pandas .read_csv()\n",
    "\n",
    "df_calendar = pd.read_csv(\"data/calendar.csv\", sep=\",\", encoding=\"windows-1252\")\n",
    "df_listings = pd.read_csv(\n",
    "    \"data/listings.csv\", sep=\",\", encoding=\"utf-8\", low_memory=False\n",
    ")\n",
    "df_reviews = pd.read_csv(\"data/reviews.csv\", sep=\",\", encoding=\"utf-8\")"
   ]
  },
  {
   "cell_type": "markdown",
   "metadata": {},
   "source": [
    "## Dataframe Listings"
   ]
  },
  {
   "cell_type": "code",
   "execution_count": null,
   "metadata": {},
   "outputs": [],
   "source": [
    "# Observamos el tamaño del dataset Listing\n",
    "df_listings.shape\n",
    "\n",
    "# Se puede observar que el tamaño del dataset contiene 105 columnas, de las cuales solo se van a conservar las siguientes columnas para el objeto de este proyecto que es la visualización"
   ]
  },
  {
   "cell_type": "markdown",
   "metadata": {},
   "source": [
    "### Columnas a conservar:\n",
    "\n",
    "| Field                           | Description                                                                                                               |\n",
    "|---------------------------------|---------------------------------------------------------------------------------------------------------------------------|\n",
    "| id                              | Airbnb's unique identifier for the listing                                                                               |\n",
    "| name                            |                                                                                                                           |\n",
    "| host_id                         |                                                                                                                           |\n",
    "| host_name                       |                                                                                                                           |\n",
    "| neighbourhood_group             | The neighbourhood group as geocoded using the latitude and longitude against neighborhoods as defined by open or public digital shapefiles. |\n",
    "| neighbourhood                   | The neighbourhood as geocoded using the latitude and longitude against neighborhoods as defined by open or public digital shapefiles. |\n",
    "| latitude                        | Uses the World Geodetic System (WGS84) projection for latitude and longitude.                                             |\n",
    "| longitude                       | Uses the World Geodetic System (WGS84) projection for latitude and longitude.                                             |\n",
    "| room_type                       |                                                                                                                           |\n",
    "| price                           | Daily price in local currency. Note, $ sign may be used despite locale.                                                 |\n",
    "| minimum_nights                  | Minimum number of night stay for the listing (calendar rules may be different).                                          |\n",
    "| number_of_reviews               | The number of reviews the listing has.                                                                                    |\n",
    "| last_review                     | The date of the last/newest review.                                                                                       |\n",
    "| calculated_host_listings_count  | The number of listings the host has in the current scrape, in the city/region geography.                                  |\n",
    "| availability_365                | Availability_x. The availability of the listing x days in the future as determined by the calendar. Note a listing may be available because it has been booked by a guest or blocked by the host. |\n",
    "| number_of_reviews_ltm           | The number of reviews the listing has (in the last 12 months).                                                           |\n",
    "| license                         |                                                                                                                           |\n"
   ]
  },
  {
   "cell_type": "code",
   "execution_count": null,
   "metadata": {},
   "outputs": [],
   "source": [
    "df_listings = df_listings[\n",
    "    [\n",
    "        \"id\",\n",
    "        \"name\",\n",
    "        \"host_id\",\n",
    "        \"host_name\",\n",
    "        \"neighbourhood\",\n",
    "        \"latitude\",\n",
    "        \"longitude\",\n",
    "        \"room_type\",\n",
    "        \"price\",\n",
    "        \"minimum_nights\",\n",
    "        \"number_of_reviews\",\n",
    "        \"reviews_per_month\",\n",
    "        \"calculated_host_listings_count\",\n",
    "        \"availability_365\",\n",
    "        \"number_of_reviews_ltm\",\n",
    "    ]\n",
    "]"
   ]
  },
  {
   "cell_type": "code",
   "execution_count": null,
   "metadata": {},
   "outputs": [],
   "source": [
    "# Luego de tener la columnas a usar en listings, se observa la cantidad de vacios por columna, en esta línea de código veremos el % de vacíos de cada columna del total de datos\n",
    "df_listings.isna().sum().sort_values(ascending=False) / len(df_listings) * 100"
   ]
  },
  {
   "cell_type": "markdown",
   "metadata": {},
   "source": [
    "### Ahora vamos a analizar el dataset basados en variables categoricas o numéricas"
   ]
  },
  {
   "cell_type": "code",
   "execution_count": null,
   "metadata": {},
   "outputs": [],
   "source": [
    "# Verificamos los tipos de datos del dataset para realizar un análisis por variables categóricas y numéricas\n",
    "###df_listings.select_dtypes('O').head()\n",
    "df_listings.select_dtypes(\"O\").head()"
   ]
  },
  {
   "cell_type": "markdown",
   "metadata": {},
   "source": [
    "Conclusiones:\n",
    "\n",
    "* Se observa que los campos price, son datatype 'object', se cambian a float\n",
    "* Se hará una copia al df_listings para hacer una análisis de la variables categóricas, donde se omiten los campos ya que son descriptivos y serán útiles solamente para la realización del dashboard en PBI"
   ]
  },
  {
   "cell_type": "code",
   "execution_count": null,
   "metadata": {},
   "outputs": [],
   "source": [
    "# Cambiamos el tipo de datos\n",
    "df_listings[\"price\"] = (\n",
    "    df_listings[\"price\"].str.replace(\"[\\\\$,]\", \"\", regex=True).astype(float)\n",
    ")"
   ]
  },
  {
   "cell_type": "markdown",
   "metadata": {},
   "source": [
    "Vamos a observar datos atipicos:"
   ]
  },
  {
   "cell_type": "code",
   "execution_count": 50,
   "metadata": {},
   "outputs": [
    {
     "data": {
      "image/png": "[encoded data removed]",
      "text/plain": [
       "<Figure size 1615x665 with 1 Axes>"
      ]
     },
     "metadata": {},
     "output_type": "display_data"
    }
   ],
   "source": [
    "# Box Plots\n",
    "fig, axs = plt.subplots(dpi=95, figsize=(17, 7))\n",
    "axs.boxplot(df_listings[\"price\"], vert=False)\n",
    "axs.set_ylabel(\"price\")\n",
    "plt.show()"
   ]
  },
  {
   "cell_type": "code",
   "execution_count": 49,
   "metadata": {},
   "outputs": [],
   "source": [
    "promedio = df_listings[\"price\"].mean()\n",
    "std = df_listings[\"price\"].std()\n",
    "umbral = 3 * std\n",
    "df_listings = df_listings[\n",
    "    (df_listings[\"price\"] >= promedio - umbral)\n",
    "    & (df_listings[\"price\"] <= promedio + umbral)\n",
    "]"
   ]
  },
  {
   "cell_type": "code",
   "execution_count": null,
   "metadata": {},
   "outputs": [],
   "source": [
    "# Copia de listings\n",
    "df_cat = df_listings.copy()"
   ]
  },
  {
   "cell_type": "code",
   "execution_count": 51,
   "metadata": {},
   "outputs": [
    {
     "data": {
      "text/html": [
       "<div>\n",
       "<style scoped>\n",
       "    .dataframe tbody tr th:only-of-type {\n",
       "        vertical-align: middle;\n",
       "    }\n",
       "\n",
       "    .dataframe tbody tr th {\n",
       "        vertical-align: top;\n",
       "    }\n",
       "\n",
       "    .dataframe thead th {\n",
       "        text-align: right;\n",
       "    }\n",
       "</style>\n",
       "<table border=\"1\" class=\"dataframe\">\n",
       "  <thead>\n",
       "    <tr style=\"text-align: right;\">\n",
       "      <th></th>\n",
       "      <th>id</th>\n",
       "      <th>name</th>\n",
       "      <th>host_id</th>\n",
       "      <th>host_name</th>\n",
       "      <th>neighbourhood</th>\n",
       "      <th>latitude</th>\n",
       "      <th>longitude</th>\n",
       "      <th>room_type</th>\n",
       "      <th>price</th>\n",
       "      <th>minimum_nights</th>\n",
       "      <th>number_of_reviews</th>\n",
       "      <th>reviews_per_month</th>\n",
       "      <th>calculated_host_listings_count</th>\n",
       "      <th>availability_365</th>\n",
       "      <th>number_of_reviews_ltm</th>\n",
       "    </tr>\n",
       "  </thead>\n",
       "  <tbody>\n",
       "    <tr>\n",
       "      <th>0</th>\n",
       "      <td>11508</td>\n",
       "      <td>Amazing Luxurious Apt-Palermo Soho</td>\n",
       "      <td>42762</td>\n",
       "      <td>Candela</td>\n",
       "      <td>Palermo</td>\n",
       "      <td>-34.58</td>\n",
       "      <td>-58.42</td>\n",
       "      <td>Entire home/apt</td>\n",
       "      <td>3983.00</td>\n",
       "      <td>2</td>\n",
       "      <td>26</td>\n",
       "      <td>0.27</td>\n",
       "      <td>1</td>\n",
       "      <td>365</td>\n",
       "      <td>4</td>\n",
       "    </tr>\n",
       "    <tr>\n",
       "      <th>1</th>\n",
       "      <td>12463</td>\n",
       "      <td>Room in Recoleta - awesome location</td>\n",
       "      <td>48799</td>\n",
       "      <td>Matt</td>\n",
       "      <td>Recoleta</td>\n",
       "      <td>-34.60</td>\n",
       "      <td>-58.39</td>\n",
       "      <td>Private room</td>\n",
       "      <td>1593.00</td>\n",
       "      <td>1</td>\n",
       "      <td>20</td>\n",
       "      <td>0.16</td>\n",
       "      <td>1</td>\n",
       "      <td>365</td>\n",
       "      <td>0</td>\n",
       "    </tr>\n",
       "    <tr>\n",
       "      <th>2</th>\n",
       "      <td>13095</td>\n",
       "      <td>Standard Room at Palermo Viejo B&amp;B</td>\n",
       "      <td>50994</td>\n",
       "      <td>Ariel</td>\n",
       "      <td>Palermo</td>\n",
       "      <td>-34.59</td>\n",
       "      <td>-58.43</td>\n",
       "      <td>Private room</td>\n",
       "      <td>2987.00</td>\n",
       "      <td>1</td>\n",
       "      <td>1</td>\n",
       "      <td>0.06</td>\n",
       "      <td>7</td>\n",
       "      <td>365</td>\n",
       "      <td>0</td>\n",
       "    </tr>\n",
       "    <tr>\n",
       "      <th>3</th>\n",
       "      <td>13096</td>\n",
       "      <td>Standard Room in Palermo Viejo B&amp;B</td>\n",
       "      <td>50994</td>\n",
       "      <td>Ariel</td>\n",
       "      <td>Palermo</td>\n",
       "      <td>-34.59</td>\n",
       "      <td>-58.43</td>\n",
       "      <td>Private room</td>\n",
       "      <td>2987.00</td>\n",
       "      <td>1</td>\n",
       "      <td>0</td>\n",
       "      <td>NaN</td>\n",
       "      <td>7</td>\n",
       "      <td>365</td>\n",
       "      <td>0</td>\n",
       "    </tr>\n",
       "    <tr>\n",
       "      <th>4</th>\n",
       "      <td>13097</td>\n",
       "      <td>Standard Room at Palermo Viejo B&amp;B</td>\n",
       "      <td>50994</td>\n",
       "      <td>Ariel</td>\n",
       "      <td>Palermo</td>\n",
       "      <td>-34.59</td>\n",
       "      <td>-58.43</td>\n",
       "      <td>Private room</td>\n",
       "      <td>2987.00</td>\n",
       "      <td>1</td>\n",
       "      <td>66</td>\n",
       "      <td>1.89</td>\n",
       "      <td>7</td>\n",
       "      <td>365</td>\n",
       "      <td>5</td>\n",
       "    </tr>\n",
       "  </tbody>\n",
       "</table>\n",
       "</div>"
      ],
      "text/plain": [
       "      id                                 name  host_id host_name  \\\n",
       "0  11508   Amazing Luxurious Apt-Palermo Soho    42762   Candela   \n",
       "1  12463  Room in Recoleta - awesome location    48799      Matt   \n",
       "2  13095   Standard Room at Palermo Viejo B&B    50994     Ariel   \n",
       "3  13096   Standard Room in Palermo Viejo B&B    50994     Ariel   \n",
       "4  13097   Standard Room at Palermo Viejo B&B    50994     Ariel   \n",
       "\n",
       "  neighbourhood  latitude  longitude        room_type   price  minimum_nights  \\\n",
       "0       Palermo    -34.58     -58.42  Entire home/apt 3983.00               2   \n",
       "1      Recoleta    -34.60     -58.39     Private room 1593.00               1   \n",
       "2       Palermo    -34.59     -58.43     Private room 2987.00               1   \n",
       "3       Palermo    -34.59     -58.43     Private room 2987.00               1   \n",
       "4       Palermo    -34.59     -58.43     Private room 2987.00               1   \n",
       "\n",
       "   number_of_reviews  reviews_per_month  calculated_host_listings_count  \\\n",
       "0                 26               0.27                               1   \n",
       "1                 20               0.16                               1   \n",
       "2                  1               0.06                               7   \n",
       "3                  0                NaN                               7   \n",
       "4                 66               1.89                               7   \n",
       "\n",
       "   availability_365  number_of_reviews_ltm  \n",
       "0               365                      4  \n",
       "1               365                      0  \n",
       "2               365                      0  \n",
       "3               365                      0  \n",
       "4               365                      5  "
      ]
     },
     "execution_count": 51,
     "metadata": {},
     "output_type": "execute_result"
    }
   ],
   "source": [
    "df_listings.head()"
   ]
  },
  {
   "cell_type": "code",
   "execution_count": null,
   "metadata": {},
   "outputs": [],
   "source": [
    "df_cat.drop(columns=[\"host_name\"], inplace=True)"
   ]
  },
  {
   "cell_type": "code",
   "execution_count": null,
   "metadata": {},
   "outputs": [],
   "source": [
    "def graficos_eda_categoricos(cat):\n",
    "\n",
    "    # Calculamos el número de filas que necesitamos\n",
    "    from math import ceil\n",
    "\n",
    "    filas = ceil(cat.shape[1] / 2)\n",
    "\n",
    "    # Definimos el gráfico\n",
    "    f, ax = plt.subplots(nrows=filas, ncols=2, figsize=(16, filas * 6))\n",
    "\n",
    "    # Aplanamos para iterar por el gráfico como si fuera de 1 dimensión en lugar de 2\n",
    "    ax = ax.flat\n",
    "\n",
    "    # Creamos el bucle que va añadiendo gráficos\n",
    "    for cada, variable in enumerate(cat):\n",
    "        cat[variable].value_counts().plot.barh(ax=ax[cada])\n",
    "        ax[cada].set_title(variable, fontsize=12, fontweight=\"bold\")\n",
    "        ax[cada].tick_params(labelsize=12)"
   ]
  },
  {
   "cell_type": "code",
   "execution_count": null,
   "metadata": {},
   "outputs": [],
   "source": [
    "graficos_eda_categoricos(df_listings.select_dtypes(\"number\"))"
   ]
  },
  {
   "cell_type": "markdown",
   "metadata": {},
   "source": [
    "Conclusiones:\n",
    "\n",
    "* has_availabity solo tiene un valor --> Se elimina\n",
    "* bed_type solo tiene un valor --> Se elimina"
   ]
  },
  {
   "cell_type": "code",
   "execution_count": null,
   "metadata": {},
   "outputs": [],
   "source": [
    "df_listings.drop(columns=[\"has_availabity\", \"bed_type\"], inplace=True)"
   ]
  },
  {
   "cell_type": "code",
   "execution_count": null,
   "metadata": {},
   "outputs": [],
   "source": [
    "df_listings.select_dtypes(\"number\")"
   ]
  },
  {
   "cell_type": "code",
   "execution_count": null,
   "metadata": {},
   "outputs": [],
   "source": []
  },
  {
   "cell_type": "code",
   "execution_count": null,
   "metadata": {},
   "outputs": [],
   "source": [
    "def estadisticos_cont(num):\n",
    "    # Calculamos describe\n",
    "    estadisticos = num.describe().T  # Añadimos la mediana\n",
    "    estadisticos[\"median\"] = num.median()\n",
    "    # Reordenamos para que la mediana esté al lado de la media\n",
    "    estadisticos = estadisticos.iloc[:, [0, 1, 8, 2, 3, 4, 5, 6, 7]]\n",
    "    # Lo devolvemos\n",
    "    return estadisticos"
   ]
  },
  {
   "cell_type": "code",
   "execution_count": null,
   "metadata": {},
   "outputs": [],
   "source": [
    "pd.set_option(\"display.float_format\", lambda x: \"%.2f\" % x)\n",
    "estadisticos_cont(df_listings.select_dtypes(\"number\"))"
   ]
  },
  {
   "cell_type": "code",
   "execution_count": null,
   "metadata": {},
   "outputs": [],
   "source": [
    "df_listings.head(5)"
   ]
  }
 ],
 "metadata": {
  "kernelspec": {
   "display_name": "Python 3",
   "language": "python",
   "name": "python3"
  },
  "language_info": {
   "codemirror_mode": {
    "name": "ipython",
    "version": 3
   },
   "file_extension": ".py",
   "mimetype": "text/x-python",
   "name": "python",
   "nbconvert_exporter": "python",
   "pygments_lexer": "ipython3",
   "version": "3.12.1"
  }
 },
 "nbformat": 4,
 "nbformat_minor": 2
}
